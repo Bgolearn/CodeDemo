{
 "cells": [
  {
   "cell_type": "code",
   "execution_count": 17,
   "id": "a15e698a-15cb-457a-bac1-cb802838c0f6",
   "metadata": {},
   "outputs": [
    {
     "name": "stdout",
     "output_type": "stream",
     "text": [
      "Requirement already satisfied: Bgolearn in c:\\users\\binja\\anaconda3\\lib\\site-packages (2.3.1)\n",
      "Requirement already satisfied: scipy in c:\\users\\binja\\anaconda3\\lib\\site-packages (from Bgolearn) (1.13.0)\n",
      "Requirement already satisfied: scikit-learn in c:\\users\\binja\\anaconda3\\lib\\site-packages (from Bgolearn) (1.2.2)\n",
      "Requirement already satisfied: pandas in c:\\users\\binja\\anaconda3\\lib\\site-packages (from Bgolearn) (2.2.2)\n",
      "Requirement already satisfied: numpy in c:\\users\\binja\\anaconda3\\lib\\site-packages (from Bgolearn) (1.26.0)\n",
      "Requirement already satisfied: matplotlib in c:\\users\\binja\\anaconda3\\lib\\site-packages (from Bgolearn) (3.8.0)\n",
      "Requirement already satisfied: multiprocess in c:\\users\\binja\\anaconda3\\lib\\site-packages (from Bgolearn) (0.70.16)\n",
      "Requirement already satisfied: art in c:\\users\\binja\\anaconda3\\lib\\site-packages (from Bgolearn) (6.2)\n",
      "Requirement already satisfied: contourpy>=1.0.1 in c:\\users\\binja\\anaconda3\\lib\\site-packages (from matplotlib->Bgolearn) (1.2.0)\n",
      "Requirement already satisfied: cycler>=0.10 in c:\\users\\binja\\anaconda3\\lib\\site-packages (from matplotlib->Bgolearn) (0.11.0)\n",
      "Requirement already satisfied: fonttools>=4.22.0 in c:\\users\\binja\\anaconda3\\lib\\site-packages (from matplotlib->Bgolearn) (4.25.0)\n",
      "Requirement already satisfied: kiwisolver>=1.0.1 in c:\\users\\binja\\anaconda3\\lib\\site-packages (from matplotlib->Bgolearn) (1.4.4)\n",
      "Requirement already satisfied: packaging>=20.0 in c:\\users\\binja\\anaconda3\\lib\\site-packages (from matplotlib->Bgolearn) (23.1)\n",
      "Requirement already satisfied: pillow>=6.2.0 in c:\\users\\binja\\anaconda3\\lib\\site-packages (from matplotlib->Bgolearn) (10.2.0)\n",
      "Requirement already satisfied: pyparsing>=2.3.1 in c:\\users\\binja\\anaconda3\\lib\\site-packages (from matplotlib->Bgolearn) (3.0.9)\n",
      "Requirement already satisfied: python-dateutil>=2.7 in c:\\users\\binja\\anaconda3\\lib\\site-packages (from matplotlib->Bgolearn) (2.8.2)\n",
      "Requirement already satisfied: dill>=0.3.8 in c:\\users\\binja\\anaconda3\\lib\\site-packages (from multiprocess->Bgolearn) (0.3.8)\n",
      "Requirement already satisfied: pytz>=2020.1 in c:\\users\\binja\\anaconda3\\lib\\site-packages (from pandas->Bgolearn) (2023.3.post1)\n",
      "Requirement already satisfied: tzdata>=2022.7 in c:\\users\\binja\\anaconda3\\lib\\site-packages (from pandas->Bgolearn) (2023.3)\n",
      "Requirement already satisfied: joblib>=1.1.1 in c:\\users\\binja\\anaconda3\\lib\\site-packages (from scikit-learn->Bgolearn) (1.2.0)\n",
      "Requirement already satisfied: threadpoolctl>=2.0.0 in c:\\users\\binja\\anaconda3\\lib\\site-packages (from scikit-learn->Bgolearn) (2.2.0)\n",
      "Requirement already satisfied: six>=1.5 in c:\\users\\binja\\anaconda3\\lib\\site-packages (from python-dateutil>=2.7->matplotlib->Bgolearn) (1.16.0)\n",
      "Note: you may need to restart the kernel to use updated packages.\n"
     ]
    },
    {
     "name": "stderr",
     "output_type": "stream",
     "text": [
      "WARNING: Skipping C:\\Users\\binja\\anaconda3\\Lib\\site-packages\\nlopt-2.7.1.dist-info due to invalid metadata entry 'name'\n",
      "WARNING: Skipping C:\\Users\\binja\\anaconda3\\Lib\\site-packages\\nlopt-2.7.1.dist-info due to invalid metadata entry 'name'\n",
      "WARNING: Skipping C:\\Users\\binja\\anaconda3\\Lib\\site-packages\\nlopt-2.7.1.dist-info due to invalid metadata entry 'name'\n",
      "WARNING: Skipping C:\\Users\\binja\\anaconda3\\Lib\\site-packages\\nlopt-2.7.1.dist-info due to invalid metadata entry 'name'\n",
      "WARNING: Skipping C:\\Users\\binja\\anaconda3\\Lib\\site-packages\\nlopt-2.7.1.dist-info due to invalid metadata entry 'name'\n",
      "WARNING: Skipping C:\\Users\\binja\\anaconda3\\Lib\\site-packages\\nlopt-2.7.1.dist-info due to invalid metadata entry 'name'\n"
     ]
    }
   ],
   "source": [
    "pip install Bgolearn"
   ]
  },
  {
   "cell_type": "markdown",
   "id": "82b62e83-15c0-4189-9767-0347c659d664",
   "metadata": {},
   "source": [
    "`HomePage` : http://bgolearn.caobin.asia/\n",
    "\n",
    "The training data is saved in `./data/train.xlsx`.\n",
    "\n",
    "\n",
    "It contains four features: Sn, Bi, In, and Ti, as well as one target variable: T. \n",
    "\n",
    "\n",
    "Determine the set of Sn, Bi, In, and Ti that maximizes the value of T.\n"
   ]
  },
  {
   "cell_type": "code",
   "execution_count": 11,
   "id": "7c1e63ce-6f9b-4115-9e51-ae3ca9805e04",
   "metadata": {},
   "outputs": [
    {
     "name": "stdout",
     "output_type": "stream",
     "text": [
      "      Sn   Bi   In   Ti       T\n",
      "0   92.9  3.0  2.5  0.1   64.60\n",
      "1   92.7  3.0  2.5  0.3   62.59\n",
      "2   92.5  3.0  2.5  0.5   72.05\n",
      "3   91.9  3.0  3.5  0.1   66.60\n",
      "4   91.7  3.0  3.5  0.3   70.29\n",
      "5   91.5  3.0  3.5  0.5   68.33\n",
      "6   91.9  4.0  2.5  0.1   77.65\n",
      "7   91.7  4.0  2.5  0.3   80.49\n",
      "8   91.5  4.0  2.5  0.5   81.03\n",
      "9   90.9  4.0  3.5  0.1   78.59\n",
      "10  90.7  4.0  3.5  0.3   84.98\n",
      "11  90.5  4.0  3.5  0.5   87.58\n",
      "12  90.9  5.0  2.5  0.1   87.42\n",
      "13  90.7  5.0  2.5  0.3   94.48\n",
      "14  90.5  5.0  2.5  0.5   95.07\n",
      "15  89.9  5.0  3.5  0.1   92.51\n",
      "16  89.7  5.0  3.5  0.3   89.85\n",
      "17  89.5  5.0  3.5  0.5   90.41\n",
      "18  86.8  5.5  5.5  0.7  106.65\n",
      "19  86.9  5.5  5.4  0.7  110.56\n",
      "20  86.9  5.5  5.5  0.6  113.44\n",
      "21  92.5  2.5  3.4  0.1   65.51\n",
      "22  92.6  2.5  3.3  0.1   62.67\n",
      "23  92.4  2.5  3.4  0.2   65.40\n",
      "24  92.4  1.5  4.5  0.1   74.64\n",
      "25  92.2  1.5  4.7  0.1   78.49\n",
      "26  92.4  1.5  4.4  0.2   73.94\n"
     ]
    }
   ],
   "source": [
    "# import training data\n",
    "import pandas as pd\n",
    "data = pd.read_excel('./data/train.xlsx')\n",
    "print(data)"
   ]
  },
  {
   "cell_type": "code",
   "execution_count": 12,
   "id": "7a77b000-78b5-4673-9d3a-734d266066d9",
   "metadata": {},
   "outputs": [
    {
     "name": "stdout",
     "output_type": "stream",
     "text": [
      "         Sn   Bi   In   Ti\n",
      "0      95.4  1.5  1.5  0.1\n",
      "1      95.3  1.5  1.5  0.2\n",
      "2      95.2  1.5  1.5  0.3\n",
      "3      95.1  1.5  1.5  0.4\n",
      "4      95.0  1.5  1.5  0.5\n",
      "...     ...  ...  ...  ...\n",
      "11762  87.2  5.5  5.5  0.3\n",
      "11763  87.1  5.5  5.5  0.4\n",
      "11764  87.0  5.5  5.5  0.5\n",
      "11765  86.9  5.5  5.5  0.6\n",
      "11766  86.8  5.5  5.5  0.7\n",
      "\n",
      "[11767 rows x 4 columns]\n"
     ]
    }
   ],
   "source": [
    "# generate virtual data, viz, define the searching space\n",
    "\n",
    "import numpy as np\n",
    "\n",
    "Bi = np.arange(1.5, 5.6, 0.1)\n",
    "In = np.arange(1.5, 5.6, 0.1)\n",
    "Ti = np.arange(0.1, 0.8, 0.1)\n",
    "\n",
    "X1,X2,X3 = np.meshgrid(Bi,In,Ti)\n",
    "Visual_samples = np.vstack([X1.ravel(), X2.ravel(),X3.ravel()]).T\n",
    "Visual_samples = pd.DataFrame(Visual_samples)\n",
    "Visual_samples.columns=['Bi','In','Ti']\n",
    "\n",
    "Sn = 100 - 1.5 - Visual_samples['Bi'] - Visual_samples['In'] - Visual_samples['Ti']\n",
    "Visual_samples.insert(0, 'Sn', Sn)\n",
    "print(Visual_samples)"
   ]
  },
  {
   "cell_type": "code",
   "execution_count": 18,
   "id": "0100657b-ddff-46ba-afa2-a0adef8f011a",
   "metadata": {},
   "outputs": [
    {
     "name": "stdout",
     "output_type": "stream",
     "text": [
      " ____                 _                           \n",
      "| __ )   __ _   ___  | |  ___   __ _  _ __  _ __  \n",
      "|  _ \\  / _` | / _ \\ | | / _ \\ / _` || '__|| '_ \\ \n",
      "| |_) || (_| || (_) || ||  __/| (_| || |   | | | |\n",
      "|____/  \\__, | \\___/ |_| \\___| \\__,_||_|   |_| |_|\n",
      "        |___/                                     \n",
      "\n",
      "Bgolearn, Bin CAO, HKUST(GZ)\n",
      "URL : https://github.com/Bin-Cao/Bgolearn and https://bgolearn.netlify.app/\n",
      "Citation: \n",
      "Materials & Design : https://doi.org/10.1016/j.matdes.2024.112921\n",
      "NPJ Computational Materials : https://doi.org/10.1038/s41524-024-01243-4\n",
      "Executed on : 2024-09-18 10:55:19  | Have a great day.\n",
      "================================================================================\n",
      "The internal model is instantiated with optimized homogenous noise\n",
      "current optimal is : 62.59\n",
      "The next datum recomended by Expected Improvement : \n",
      " x =  [95.3  1.5  1.5  0.2]\n",
      "The predictions of Bgolearn are : \n",
      " y =  62.169546305748696\n"
     ]
    },
    {
     "data": {
      "text/plain": [
       "(array([4.10898579e+00, 4.24502811e+00, 4.17842064e+00, ...,\n",
       "        8.74815138e-11, 3.58986245e-13, 1.97317116e-12]),\n",
       " array([[95.3,  1.5,  1.5,  0.2]]))"
      ]
     },
     "execution_count": 18,
     "metadata": {},
     "output_type": "execute_result"
    }
   ],
   "source": [
    "import Bgolearn.BGOsampling as BGOS\n",
    "Bgolearn = BGOS.Bgolearn() \n",
    "Mymodel = Bgolearn.fit(data_matrix = data.iloc[:,:-1], Measured_response = data.iloc[:,-1], virtual_samples = Visual_samples)\n",
    "Mymodel.EI()"
   ]
  },
  {
   "cell_type": "code",
   "execution_count": 19,
   "id": "4d02dd99-9e60-4c9c-b161-4c3230ac0914",
   "metadata": {},
   "outputs": [
    {
     "name": "stdout",
     "output_type": "stream",
     "text": [
      " ____                 _                           \n",
      "| __ )   __ _   ___  | |  ___   __ _  _ __  _ __  \n",
      "|  _ \\  / _` | / _ \\ | | / _ \\ / _` || '__|| '_ \\ \n",
      "| |_) || (_| || (_) || ||  __/| (_| || |   | | | |\n",
      "|____/  \\__, | \\___/ |_| \\___| \\__,_||_|   |_| |_|\n",
      "        |___/                                     \n",
      "\n",
      "Bgolearn, Bin CAO, HKUST(GZ)\n",
      "URL : https://github.com/Bin-Cao/Bgolearn and https://bgolearn.netlify.app/\n",
      "Citation: \n",
      "Materials & Design : https://doi.org/10.1016/j.matdes.2024.112921\n",
      "NPJ Computational Materials : https://doi.org/10.1038/s41524-024-01243-4\n",
      "Executed on : 2024-09-18 10:55:38  | Have a great day.\n",
      "================================================================================\n",
      "The internal model is instantiated with optimized homogenous noise\n",
      "The next datum recomended by Upper confidence bound  : \n",
      " x =  [95.3  1.5  1.5  0.2]\n",
      "The predictions of Bgolearn are : \n",
      " y =  62.169546305748696\n"
     ]
    },
    {
     "data": {
      "text/plain": [
       "(array([52.27219138, 52.06454533, 52.19652913, ..., 98.60729558,\n",
       "        99.91386383, 99.65831671]),\n",
       " array([[95.3,  1.5,  1.5,  0.2]]))"
      ]
     },
     "execution_count": 19,
     "metadata": {},
     "output_type": "execute_result"
    }
   ],
   "source": [
    "import Bgolearn.BGOsampling as BGOS\n",
    "Bgolearn = BGOS.Bgolearn() \n",
    "Mymodel = Bgolearn.fit(data_matrix = data.iloc[:,:-1], Measured_response = data.iloc[:,-1], virtual_samples = Visual_samples)\n",
    "Mymodel.UCB()"
   ]
  },
  {
   "cell_type": "code",
   "execution_count": null,
   "id": "bb7c05a4-a2bc-4ab2-a13f-e9c92b544373",
   "metadata": {},
   "outputs": [],
   "source": [
    "import Bgolearn.BGOsampling as BGOS\n",
    "Bgolearn = BGOS.Bgolearn() \n",
    "Mymodel = Bgolearn.fit(data_matrix = data.iloc[:,:-1], Measured_response = data.iloc[:,-1], virtual_samples = Visual_samples)\n",
    "# Mymodel.UCB()\n",
    "# https://bgolearn.netlify.app/bgolearn/\n"
   ]
  }
 ],
 "metadata": {
  "kernelspec": {
   "display_name": "Python 3 (ipykernel)",
   "language": "python",
   "name": "python3"
  },
  "language_info": {
   "codemirror_mode": {
    "name": "ipython",
    "version": 3
   },
   "file_extension": ".py",
   "mimetype": "text/x-python",
   "name": "python",
   "nbconvert_exporter": "python",
   "pygments_lexer": "ipython3",
   "version": "3.11.7"
  }
 },
 "nbformat": 4,
 "nbformat_minor": 5
}
