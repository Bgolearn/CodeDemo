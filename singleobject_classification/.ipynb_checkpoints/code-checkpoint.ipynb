{
 "cells": [
  {
   "cell_type": "code",
   "execution_count": null,
   "id": "75459692-792c-4d87-8097-5b4e583cb804",
   "metadata": {},
   "outputs": [],
   "source": [
    "pip install Bgolearn"
   ]
  },
  {
   "cell_type": "markdown",
   "id": "3087a4c7-11ec-44a6-a295-ff4b9288ed34",
   "metadata": {},
   "source": [
    "`HomePage` : http://bgolearn.caobin.asia/\n",
    "\n",
    "The training data is saved in `./data/train.xlsx`.\n",
    "\n",
    "\n",
    "It contains two features: T and P, as well as one label (0 or 1). \n",
    "\n",
    "\n",
    "find the boundary between class 0 and class 1 with limited data\n"
   ]
  },
  {
   "cell_type": "code",
   "execution_count": 3,
   "id": "228941dc-f563-4356-b191-c2a2354b65b4",
   "metadata": {},
   "outputs": [
    {
     "name": "stdout",
     "output_type": "stream",
     "text": [
      "             T         P  label\n",
      "0   155.004447  6.867646      1\n",
      "1  -188.370042  6.460008      0\n",
      "2  -268.549842  0.138883      0\n",
      "3  -113.719228  7.216016      0\n",
      "4    83.119263  7.206900      1\n",
      "5   114.283876  3.890150      2\n",
      "6   285.352474  0.111851      2\n",
      "7   181.674123  2.414068      2\n",
      "8   -85.633211  1.500656      0\n",
      "9    -1.484726  1.867413      2\n",
      "10  -56.156652  4.394882      0\n",
      "11  -25.665378  5.858655      0\n",
      "12 -224.744856  5.841451      0\n",
      "13 -165.922108  0.215880      0\n",
      "14  -24.556076  3.500603      0\n",
      "15 -184.413087  6.799096      0\n",
      "16  110.257491  4.808679      2\n",
      "17  183.565129  5.746803      2\n",
      "18  -53.992358  7.914082      0\n"
     ]
    }
   ],
   "source": [
    "# import training data\n",
    "import pandas as pd\n",
    "data = pd.read_excel('./data/train.xlsx')\n",
    "print(data)"
   ]
  },
  {
   "cell_type": "code",
   "execution_count": 5,
   "id": "58d8c790-8cae-461a-9832-27d9846bb6c5",
   "metadata": {},
   "outputs": [
    {
     "name": "stdout",
     "output_type": "stream",
     "text": [
      "           T    P\n",
      "0     -250.0  0.0\n",
      "1     -249.0  0.0\n",
      "2     -248.0  0.0\n",
      "3     -247.0  0.0\n",
      "4     -246.0  0.0\n",
      "...      ...  ...\n",
      "43995  295.0  7.9\n",
      "43996  296.0  7.9\n",
      "43997  297.0  7.9\n",
      "43998  298.0  7.9\n",
      "43999  299.0  7.9\n",
      "\n",
      "[44000 rows x 2 columns]\n"
     ]
    }
   ],
   "source": [
    "# generate virtual data, viz, define the searching space\n",
    "\n",
    "import numpy as np\n",
    "\n",
    "T = np.arange(-250,300, 1)\n",
    "P = np.arange(0, 8, 0.1)\n",
    "\n",
    "\n",
    "X1,X2 = np.meshgrid(T,P)\n",
    "Visual_samples = np.vstack([X1.ravel(), X2.ravel()]).T\n",
    "Visual_samples = pd.DataFrame(Visual_samples)\n",
    "Visual_samples.columns=['T','P']\n",
    "\n",
    "print(Visual_samples)"
   ]
  },
  {
   "cell_type": "code",
   "execution_count": 6,
   "id": "ef946ab7-689a-4485-a3ce-f6f8b8575f51",
   "metadata": {},
   "outputs": [
    {
     "name": "stdout",
     "output_type": "stream",
     "text": [
      " ____                 _                           \n",
      "| __ )   __ _   ___  | |  ___   __ _  _ __  _ __  \n",
      "|  _ \\  / _` | / _ \\ | | / _ \\ / _` || '__|| '_ \\ \n",
      "| |_) || (_| || (_) || ||  __/| (_| || |   | | | |\n",
      "|____/  \\__, | \\___/ |_| \\___| \\__,_||_|   |_| |_|\n",
      "        |___/                                     \n",
      "\n",
      "Bgolearn, Bin CAO, HKUST(GZ)\n",
      "URL : https://github.com/Bin-Cao/Bgolearn and https://bgolearn.netlify.app/\n",
      "Citation: \n",
      "Materials & Design : https://doi.org/10.1016/j.matdes.2024.112921\n",
      "NPJ Computational Materials : https://doi.org/10.1038/s41524-024-01243-4\n",
      "Executed on : 2024-09-18 11:02:00  | Have a great day.\n",
      "================================================================================\n",
      "SVC(probability=True)\n",
      "The next datum recomended by Least confidence : \n",
      " x =  [50.   7.9]\n"
     ]
    },
    {
     "data": {
      "text/plain": [
       "(array([0.1662192 , 0.16587046, 0.16553108, ..., 0.35840534, 0.35873522,\n",
       "        0.35907301]),\n",
       " array([[50. ,  7.9]]))"
      ]
     },
     "execution_count": 6,
     "metadata": {},
     "output_type": "execute_result"
    }
   ],
   "source": [
    "import Bgolearn.BGOsampling as BGOS\n",
    "Bgolearn = BGOS.Bgolearn() \n",
    "Mymodel = Bgolearn.fit(data_matrix = data.iloc[:,:-1], Measured_response = data.iloc[:,-1], virtual_samples = Visual_samples,Mission='Classification', Classifier='SVM')\n",
    "Mymodel.Least_cfd() \n"
   ]
  },
  {
   "cell_type": "code",
   "execution_count": null,
   "id": "6416c61e-49a0-44ab-929b-8a947c434db4",
   "metadata": {},
   "outputs": [],
   "source": [
    "import Bgolearn.BGOsampling as BGOS\n",
    "Bgolearn = BGOS.Bgolearn() \n",
    "Mymodel = Bgolearn.fit(data_matrix = data.iloc[:,:-1], Measured_response = data.iloc[:,-1], virtual_samples = Visual_samples,Mission='Classification', Classifier='SVM')\n",
    "# Mymodel.Least_cfd() \n",
    "# https://bgolearn.netlify.app/bgolearn/"
   ]
  }
 ],
 "metadata": {
  "kernelspec": {
   "display_name": "Python 3 (ipykernel)",
   "language": "python",
   "name": "python3"
  },
  "language_info": {
   "codemirror_mode": {
    "name": "ipython",
    "version": 3
   },
   "file_extension": ".py",
   "mimetype": "text/x-python",
   "name": "python",
   "nbconvert_exporter": "python",
   "pygments_lexer": "ipython3",
   "version": "3.11.7"
  }
 },
 "nbformat": 4,
 "nbformat_minor": 5
}
